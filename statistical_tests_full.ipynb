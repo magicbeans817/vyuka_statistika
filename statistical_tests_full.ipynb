{
 "cells": [
  {
   "cell_type": "markdown",
   "id": "b72cffe8",
   "metadata": {},
   "source": [
    "# Statistical Tests: Python Implementation"
   ]
  },
  {
   "cell_type": "code",
   "execution_count": 12,
   "id": "9beb9931",
   "metadata": {},
   "outputs": [],
   "source": [
    "\n",
    "import numpy as np\n",
    "import pandas as pd\n",
    "from scipy.stats import ttest_1samp, ttest_ind, ttest_rel, chisquare, chi2_contingency\n",
    "import matplotlib.pyplot as plt\n",
    "\n",
    "# Setting random seed for reproducibility\n",
    "np.random.seed(42)\n"
   ]
  },
  {
   "cell_type": "markdown",
   "id": "056e8550",
   "metadata": {},
   "source": [
    "## Example Data Generation"
   ]
  },
  {
   "cell_type": "code",
   "execution_count": 13,
   "id": "61323b22",
   "metadata": {},
   "outputs": [],
   "source": [
    "\n",
    "# Example data for all tests\n",
    "test_scores = np.random.normal(loc=70, scale=10, size=30)  # Sample for one-sample t-test\n",
    "group_A = np.random.normal(loc=70, scale=10, size=30)  # Group A for two-sample t-test\n",
    "group_B = np.random.normal(loc=72, scale=10, size=30)  # Group B for two-sample t-test\n",
    "pre_test = np.random.normal(loc=65, scale=10, size=30)  # Pre-test for paired t-test\n",
    "post_test = pre_test + np.random.normal(loc=5, scale=5, size=30)  # Post-test for paired t-test\n",
    "observed = np.array([18, 22, 20])  # Observed frequencies for chi-square goodness-of-fit\n",
    "expected = np.array([20, 20, 20])  # Expected frequencies for chi-square goodness-of-fit\n",
    "contingency_table = np.array([[30, 10], [20, 40]])  # Contingency table for chi-square independence test\n"
   ]
  },
  {
   "cell_type": "markdown",
   "id": "4e8abc82",
   "metadata": {},
   "source": [
    "## One-Sample t-test"
   ]
  },
  {
   "cell_type": "code",
   "execution_count": 22,
   "id": "51d296d6",
   "metadata": {},
   "outputs": [
    {
     "name": "stdout",
     "output_type": "stream",
     "text": [
      "One-Sample t-test: t-statistic = -4.18790, p-value = 0.0002\n"
     ]
    }
   ],
   "source": [
    "\n",
    "# One-sample t-test\n",
    "t_stat, p_value = ttest_1samp(test_scores, popmean=75)\n",
    "print(f\"One-Sample t-test: t-statistic = {t_stat:.5f}, p-value = {p_value:.4f}\")\n"
   ]
  },
  {
   "cell_type": "code",
   "execution_count": 18,
   "id": "00f3c724",
   "metadata": {},
   "outputs": [],
   "source": [
    "?ttest_1samp"
   ]
  },
  {
   "cell_type": "markdown",
   "id": "5d1e076c",
   "metadata": {},
   "source": [
    "## Two-Sample t-test"
   ]
  },
  {
   "cell_type": "code",
   "execution_count": 16,
   "id": "202e07b7",
   "metadata": {},
   "outputs": [
    {
     "name": "stdout",
     "output_type": "stream",
     "text": [
      "Two-Sample t-test: t-statistic = -1.34, p-value = 0.1839\n"
     ]
    }
   ],
   "source": [
    "\n",
    "# Two-sample t-test\n",
    "t_stat, p_value = ttest_ind(group_A, group_B)\n",
    "print(f\"Two-Sample t-test: t-statistic = {t_stat:.2f}, p-value = {p_value:.4f}\")\n"
   ]
  },
  {
   "cell_type": "markdown",
   "id": "5179df80",
   "metadata": {},
   "source": [
    "## Paired t-test"
   ]
  },
  {
   "cell_type": "code",
   "execution_count": 5,
   "id": "dfd4a632",
   "metadata": {},
   "outputs": [
    {
     "name": "stdout",
     "output_type": "stream",
     "text": [
      "Paired t-test: t-statistic = -4.84, p-value = 0.0000\n"
     ]
    }
   ],
   "source": [
    "\n",
    "# Paired t-test\n",
    "t_stat, p_value = ttest_rel(pre_test, post_test)\n",
    "print(f\"Paired t-test: t-statistic = {t_stat:.2f}, p-value = {p_value:.4f}\")\n"
   ]
  },
  {
   "cell_type": "markdown",
   "id": "8a4bef68",
   "metadata": {},
   "source": [
    "## Chi-Square Goodness of Fit"
   ]
  },
  {
   "cell_type": "code",
   "execution_count": 6,
   "id": "f950d53d",
   "metadata": {},
   "outputs": [
    {
     "name": "stdout",
     "output_type": "stream",
     "text": [
      "Chi-square Goodness of Fit: chi2-statistic = 0.40, p-value = 0.8187\n"
     ]
    }
   ],
   "source": [
    "\n",
    "# Chi-square goodness-of-fit test\n",
    "chi2_stat, p_value = chisquare(observed, f_exp=expected)\n",
    "print(f\"Chi-square Goodness of Fit: chi2-statistic = {chi2_stat:.2f}, p-value = {p_value:.4f}\")\n"
   ]
  },
  {
   "cell_type": "markdown",
   "id": "1f5852fd",
   "metadata": {},
   "source": [
    "## Chi-Square Test for Independence"
   ]
  },
  {
   "cell_type": "code",
   "execution_count": 7,
   "id": "9f9062ca",
   "metadata": {},
   "outputs": [
    {
     "name": "stdout",
     "output_type": "stream",
     "text": [
      "Chi-square Independence Test: chi2-statistic = 15.04, p-value = 0.0001\n",
      "Expected Frequencies:\n",
      "[[20. 20.]\n",
      " [30. 30.]]\n"
     ]
    }
   ],
   "source": [
    "\n",
    "# Chi-square test for independence\n",
    "chi2_stat, p_value, dof, expected = chi2_contingency(contingency_table)\n",
    "print(f\"Chi-square Independence Test: chi2-statistic = {chi2_stat:.2f}, p-value = {p_value:.4f}\")\n",
    "print(\"Expected Frequencies:\")\n",
    "print(expected)\n"
   ]
  }
 ],
 "metadata": {
  "kernelspec": {
   "display_name": "Python 3",
   "language": "python",
   "name": "python3"
  },
  "language_info": {
   "codemirror_mode": {
    "name": "ipython",
    "version": 3
   },
   "file_extension": ".py",
   "mimetype": "text/x-python",
   "name": "python",
   "nbconvert_exporter": "python",
   "pygments_lexer": "ipython3",
   "version": "3.8.8"
  }
 },
 "nbformat": 4,
 "nbformat_minor": 5
}
