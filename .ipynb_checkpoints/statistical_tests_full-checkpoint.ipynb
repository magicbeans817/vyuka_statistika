{
 "cells": [
  {
   "cell_type": "markdown",
   "id": "b72cffe8",
   "metadata": {},
   "source": [
    "# Statistical Tests: Python Implementation"
   ]
  },
  {
   "cell_type": "code",
   "execution_count": 1,
   "id": "9beb9931",
   "metadata": {},
   "outputs": [],
   "source": [
    "import numpy as np\n",
    "import pandas as pd\n",
    "from scipy.stats import ttest_1samp, ttest_ind, ttest_rel, chisquare, chi2_contingency\n",
    "import matplotlib.pyplot as plt\n",
    "\n",
    "# Setting random seed for reproducibility\n",
    "np.random.seed(42)"
   ]
  },
  {
   "cell_type": "markdown",
   "id": "056e8550",
   "metadata": {},
   "source": [
    "## Example Data Generation\n",
    "\n",
    "Tady si ukážeme, jak simulovat reálná data."
   ]
  },
  {
   "cell_type": "code",
   "execution_count": 41,
   "id": "61323b22",
   "metadata": {},
   "outputs": [],
   "source": [
    "\n",
    "# Example data for all tests\n",
    "test_scores = np.random.normal(loc=70, scale=10, size=20)  # Sample for one-sample t-test\n",
    "group_A = np.random.normal(loc=70, scale=10, size=30)  # Group A for two-sample t-test\n",
    "group_B = np.random.normal(loc=72, scale=10, size=30)  # Group B for two-sample t-test\n",
    "observed = np.array([18, 22, 20])  # Observed frequencies for chi-square goodness-of-fit\n",
    "expected = np.array([20, 20, 20])  # Expected frequencies for chi-square goodness-of-fit\n",
    "contingency_table = np.array([[30, 10], [20, 40]])  # Contingency table for chi-square independence test\n"
   ]
  },
  {
   "cell_type": "markdown",
   "id": "4e8abc82",
   "metadata": {},
   "source": [
    "## One-Sample t-test"
   ]
  },
  {
   "cell_type": "code",
   "execution_count": 8,
   "id": "51d296d6",
   "metadata": {},
   "outputs": [
    {
     "name": "stdout",
     "output_type": "stream",
     "text": [
      "One-Sample t-test: t-statistic = -3.11539, p-value = 0.0057\n"
     ]
    }
   ],
   "source": [
    "# One-sample t-test\n",
    "t_stat, p_value = ttest_1samp(test_scores, popmean=75)\n",
    "print(f\"One-Sample t-test: t-statistic = {t_stat:.5f}, p-value = {p_value:.4f}\")"
   ]
  },
  {
   "cell_type": "markdown",
   "id": "98d322fa",
   "metadata": {},
   "source": [
    "Nabízí se otázka, proč výstup testu přiřazujeme dvěma proměnným? Jde o to, že funkce ttest_1samp vrací tuple.\n",
    "\n",
    "Co je tuple?\n",
    "\n",
    "A tuple in Python is an ordered, immutable collection of elements. Think of it like a fixed-length list.\n",
    "\n",
    "Konkrétně ttest_1samp vám vrací tuple o dvou elementech - t-statistiku a samotnou p-hodnotu.\n",
    "\n",
    "Když voláte funkci, která vrací tuple, jak poznáte, jak je tuple dlouhý? Musíte si otevřít dokumentaci, kde je explicitně zapsáno, kolik toho tuple vrací. \n",
    "Dokumentaci otevřete pomocí ?ttest_1samp nebo help(ttest_1samp)"
   ]
  },
  {
   "cell_type": "code",
   "execution_count": 4,
   "id": "00f3c724",
   "metadata": {},
   "outputs": [
    {
     "name": "stdout",
     "output_type": "stream",
     "text": [
      "Help on function ttest_1samp in module scipy.stats._stats_py:\n",
      "\n",
      "ttest_1samp(a, popmean, axis=0, nan_policy='propagate', alternative='two-sided')\n",
      "    Calculate the T-test for the mean of ONE group of scores.\n",
      "    \n",
      "    This is a test for the null hypothesis that the expected value\n",
      "    (mean) of a sample of independent observations `a` is equal to the given\n",
      "    population mean, `popmean`.\n",
      "    \n",
      "    Parameters\n",
      "    ----------\n",
      "    a : array_like\n",
      "        Sample observation.\n",
      "    popmean : float or array_like\n",
      "        Expected value in null hypothesis. If array_like, then it must have the\n",
      "        same shape as `a` excluding the axis dimension.\n",
      "    axis : int or None, optional\n",
      "        Axis along which to compute test; default is 0. If None, compute over\n",
      "        the whole array `a`.\n",
      "    nan_policy : {'propagate', 'raise', 'omit'}, optional\n",
      "        Defines how to handle when input contains nan.\n",
      "        The following options are available (default is 'propagate'):\n",
      "    \n",
      "          * 'propagate': returns nan\n",
      "          * 'raise': throws an error\n",
      "          * 'omit': performs the calculations ignoring nan values\n",
      "    \n",
      "    alternative : {'two-sided', 'less', 'greater'}, optional\n",
      "        Defines the alternative hypothesis.\n",
      "        The following options are available (default is 'two-sided'):\n",
      "    \n",
      "        * 'two-sided': the mean of the underlying distribution of the sample\n",
      "          is different than the given population mean (`popmean`)\n",
      "        * 'less': the mean of the underlying distribution of the sample is\n",
      "          less than the given population mean (`popmean`)\n",
      "        * 'greater': the mean of the underlying distribution of the sample is\n",
      "          greater than the given population mean (`popmean`)\n",
      "    \n",
      "        .. versionadded:: 1.6.0\n",
      "    \n",
      "    Returns\n",
      "    -------\n",
      "    statistic : float or array\n",
      "        t-statistic.\n",
      "    pvalue : float or array\n",
      "        Two-sided p-value.\n",
      "    \n",
      "    Notes\n",
      "    -----\n",
      "    The statistic is calculated as ``(np.mean(a) - popmean)/se``, where\n",
      "    ``se`` is the standard error. Therefore, the statistic will be positive\n",
      "    when the sample mean is greater than the population mean and negative when\n",
      "    the sample mean is less than the population mean.\n",
      "    \n",
      "    Examples\n",
      "    --------\n",
      "    Suppose we wish to test the null hypothesis that the mean of a population\n",
      "    is equal to 0.5. We choose a confidence level of 99%; that is, we will\n",
      "    reject the null hypothesis in favor of the alternative if the p-value is\n",
      "    less than 0.01.\n",
      "    \n",
      "    When testing random variates from the standard uniform distribution, which\n",
      "    has a mean of 0.5, we expect the data to be consistent with the null\n",
      "    hypothesis most of the time.\n",
      "    \n",
      "    >>> from scipy import stats\n",
      "    >>> rng = np.random.default_rng()\n",
      "    >>> rvs = stats.uniform.rvs(size=50, random_state=rng)\n",
      "    >>> stats.ttest_1samp(rvs, popmean=0.5)\n",
      "    Ttest_1sampResult(statistic=2.456308468440, pvalue=0.017628209047638)\n",
      "    \n",
      "    As expected, the p-value of 0.017 is not below our threshold of 0.01, so\n",
      "    we cannot reject the null hypothesis.\n",
      "    \n",
      "    When testing data from the standard *normal* distribution, which has a mean\n",
      "    of 0, we would expect the null hypothesis to be rejected.\n",
      "    \n",
      "    >>> rvs = stats.norm.rvs(size=50, random_state=rng)\n",
      "    >>> stats.ttest_1samp(rvs, popmean=0.5)\n",
      "    Ttest_1sampResult(statistic=-7.433605518875, pvalue=1.416760157221e-09)\n",
      "    \n",
      "    Indeed, the p-value is lower than our threshold of 0.01, so we reject the\n",
      "    null hypothesis in favor of the default \"two-sided\" alternative: the mean\n",
      "    of the population is *not* equal to 0.5.\n",
      "    \n",
      "    However, suppose we were to test the null hypothesis against the\n",
      "    one-sided alternative that the mean of the population is *greater* than\n",
      "    0.5. Since the mean of the standard normal is less than 0.5, we would not\n",
      "    expect the null hypothesis to be rejected.\n",
      "    \n",
      "    >>> stats.ttest_1samp(rvs, popmean=0.5, alternative='greater')\n",
      "    Ttest_1sampResult(statistic=-7.433605518875, pvalue=0.99999999929)\n",
      "    \n",
      "    Unsurprisingly, with a p-value greater than our threshold, we would not\n",
      "    reject the null hypothesis.\n",
      "    \n",
      "    Note that when working with a confidence level of 99%, a true null\n",
      "    hypothesis will be rejected approximately 1% of the time.\n",
      "    \n",
      "    >>> rvs = stats.uniform.rvs(size=(100, 50), random_state=rng)\n",
      "    >>> res = stats.ttest_1samp(rvs, popmean=0.5, axis=1)\n",
      "    >>> np.sum(res.pvalue < 0.01)\n",
      "    1\n",
      "    \n",
      "    Indeed, even though all 100 samples above were drawn from the standard\n",
      "    uniform distribution, which *does* have a population mean of 0.5, we would\n",
      "    mistakenly reject the null hypothesis for one of them.\n",
      "\n"
     ]
    }
   ],
   "source": [
    "help(ttest_1samp)"
   ]
  },
  {
   "cell_type": "markdown",
   "id": "89b0ce76",
   "metadata": {},
   "source": [
    "Pojďme se trochu zamyslet nad tím, kdy používat jednostranný a kdy oboustranný t-test. Mějme proměnnou, na kterou má smysl aplikovat oboustranný t-test (ten má alespoň víceméně smysl vždy...) i jednostranný t-test. Použijme příklad s točenými pivy u stánkaře a pojďme zkoumat, zda stánkař točí podmíráky. Vytvořme data, která obsahují fiktivní stánkařovy objemy v mililitrech."
   ]
  },
  {
   "cell_type": "code",
   "execution_count": 21,
   "id": "dfda0fb0",
   "metadata": {},
   "outputs": [
    {
     "name": "stdout",
     "output_type": "stream",
     "text": [
      "Počet pozorování: 14\n",
      "One-Sample t-test: t-statistic = -1.80776, p-value = 0.0938\n",
      "One-Sample t-test: t-statistic = -1.80776, p-value = 0.0469\n"
     ]
    }
   ],
   "source": [
    "pivo = [482,487,504,495,483,472,499,498,508,476,512,504,489,506]\n",
    "print(\"Počet pozorování: \" + str(len(pivo)))\n",
    "\n",
    "# oboustranny t-test: alternativni hypoteza je, ze prumerny objem je ruzny od 500ml\n",
    "t_stat, p_value = ttest_1samp(pivo, popmean=500, alternative = \"two-sided\")\n",
    "print(f\"One-Sample t-test: t-statistic = {t_stat:.5f}, p-value = {p_value:.4f}\")\n",
    "\n",
    "# jednostranny t-test: alternativni hypoteza je, ze prumerny objem je mensi nez 500ml\n",
    "t_stat, p_value = ttest_1samp(pivo, popmean=500, alternative = \"less\")\n",
    "print(f\"One-Sample t-test: t-statistic = {t_stat:.5f}, p-value = {p_value:.4f}\")"
   ]
  },
  {
   "cell_type": "markdown",
   "id": "67d80d61",
   "metadata": {},
   "source": [
    "Na základě stejných dat máme u obou testů stejné t-statistic. Nicméně p-hodnoty jsou zásadně rozdílné! Proč to tak je? A není na jejich velikostech něco trochu podivného?"
   ]
  },
  {
   "cell_type": "markdown",
   "id": "5d1e076c",
   "metadata": {},
   "source": [
    "## Two-Sample t-test"
   ]
  },
  {
   "cell_type": "code",
   "execution_count": 24,
   "id": "f8dd79c5",
   "metadata": {},
   "outputs": [
    {
     "name": "stdout",
     "output_type": "stream",
     "text": [
      "Data A\n",
      "[69.87753227 61.02745629 70.75804558 63.22838288 79.75119733 68.52942618\n",
      " 61.74502803 66.78614158 74.12931454 64.36275447 61.77779604 72.43687211\n",
      " 72.44966571 64.93056825 65.28961694 72.32049937 55.51915659 55.92536226\n",
      " 62.81555779 67.86552848 73.10907566 84.75356217 78.57659623 68.4006147\n",
      " 69.80983792 59.97470635 69.81486864 67.11341361 73.2271856  61.72769056]\n",
      "Data B\n",
      "[77.19346514 87.32738913 70.91239852 76.01711722 78.90143992 67.98779528\n",
      " 74.24092482 72.12592401 72.97676099 64.26990216 72.24510174 76.97998291\n",
      " 86.51143608 81.59270826 93.53182458 64.32652437 80.72320637 73.83342006\n",
      " 93.89802933 63.91701715 63.60278158 66.00607355 50.76104276 66.74244978\n",
      " 64.40867338 73.50393786 75.41755976 90.76170839 81.50423838 66.23096344]\n"
     ]
    }
   ],
   "source": [
    "# pojdme pogenerovat data a kouknout se na ne\n",
    "group_A = np.random.normal(loc=70, scale=10, size=30)  # Group A for two-sample t-test\n",
    "print(\"Data A\")\n",
    "print(group_A)\n",
    "print(\"Data B\")\n",
    "group_B = np.random.normal(loc=72, scale=10, size=30)  # Group B for two-sample t-test\n",
    "print(group_B)"
   ]
  },
  {
   "cell_type": "markdown",
   "id": "5a672eee",
   "metadata": {},
   "source": [
    "Datasety A a B jsou náhodné proměnné o stejných směrodatných odchylkách. Oba datasety mají stejný počet pozorování. Liší se pouze svým průměrem. Použijeme teď tři two-sample t-testy se třemi různými alternativními hypotézami. Zajímá nás, jak se to projeví na p-hodnotách."
   ]
  },
  {
   "cell_type": "code",
   "execution_count": 28,
   "id": "202e07b7",
   "metadata": {},
   "outputs": [
    {
     "name": "stdout",
     "output_type": "stream",
     "text": [
      "Two-Sample t-test: t-statistic = -2.8990, p-value = 0.0053\n",
      "Two-Sample t-test: t-statistic = -2.8990, p-value = 0.0026\n",
      "Two-Sample t-test: t-statistic = -2.8990, p-value = 0.9974\n"
     ]
    }
   ],
   "source": [
    "# Two-sample t-test - oboustranný\n",
    "t_stat, p_value = ttest_ind(group_A, group_B, alternative = \"two-sided\")\n",
    "print(f\"Two-Sample t-test: t-statistic = {t_stat:.4f}, p-value = {p_value:.4f}\")\n",
    "\n",
    "# Two-sample t-test - oboustranný\n",
    "t_stat, p_value = ttest_ind(group_A, group_B, alternative = \"less\")\n",
    "print(f\"Two-Sample t-test: t-statistic = {t_stat:.4f}, p-value = {p_value:.4f}\")\n",
    "\n",
    "# Two-sample t-test - oboustranný\n",
    "t_stat, p_value = ttest_ind(group_A, group_B, alternative = \"greater\")\n",
    "print(f\"Two-Sample t-test: t-statistic = {t_stat:.4f}, p-value = {p_value:.4f}\")"
   ]
  },
  {
   "cell_type": "markdown",
   "id": "ee3db943",
   "metadata": {},
   "source": [
    "Počkat, takže jaké testy má smysl kdy používat? Odpověď není zřejmá: VŽDY ZÁLEŽÍ NA TOM, KOMU PREZENTUJETE SVOU PRÁCI."
   ]
  },
  {
   "cell_type": "markdown",
   "id": "5179df80",
   "metadata": {},
   "source": [
    "## Paired t-test\n",
    "\n",
    "Uděláme si párový t-test. Párový t-test se používá, když chceme měřit dopady nějakého treatmentu a nemáme žádné zavádějící faktory (confounding factors). Pokud by mohly existovat zavádějící faktory, chceme použít Randomized Control Trial.\n",
    "\n",
    "Párový t-test je založený na principu, že pozorování z obou vzorků jsou navzájem závislá. Hodnoty jednoho z datasetů odečítáme od hodnot druhého a pak aplikujeme jednoduchý t-test. \n",
    "V tom případě si ukážeme tři věci:\n",
    "\n",
    "1) Jak aplikovat párový t-test \n",
    "\n",
    "2) Jak aplikovat párový t-test pomocí odečtení hodnot a aplikování jednoduchého t-testu\n",
    "\n",
    "3) Jak se výsledky liší oproti tomu, když použijeme párový t-test\n",
    "\n",
    "Popis experimentu:\n",
    "\n",
    "Zkoujmeme třeba vliv alkoholu na schopnost řídit. Já bych tento experiment nastavil tak, že účastníci projedou nějakou trasu vytyčenou kužely s cílem srazit co nejméně kuželů. Pak vypijí množství alkoholu (je otázka, jestli fixní množství nebo množství třeba podle váhy a pohlaví nebo úplně jinak) a podrobí se testu znovu (není od věci kužely zpřeházet a trasu změnit, aby se účastníci nemohli pouřit z chyb při prvním projezdu a test nebyl biased). Zase je cílem srazit co nejméně kuželů.\n",
    "Předpokládáme, že alkoho zhorší řidičské schopnosti účastníků.\n",
    "Pokládám:\n",
    "\n",
    "$H_0$: kuzely_predtim = kuzely_potom (Není rozdíl v průměrných počtech sražených kuželů)\n",
    "\n",
    "$H_A$: kuzely_predtim < kuzely_potom (Před vlivem alkoholu jich lidé sráželi spíše méně)"
   ]
  },
  {
   "cell_type": "code",
   "execution_count": 43,
   "id": "dfd4a632",
   "metadata": {},
   "outputs": [
    {
     "name": "stdout",
     "output_type": "stream",
     "text": [
      "Párový t-test\n",
      "Paired t-test: t-statistic = -1.9276, p-value = 0.0365\n"
     ]
    }
   ],
   "source": [
    "kuzely_predtim = [2,3,0,0,0,4,1,1,2,3,8,7,0,2,3,2]\n",
    "kuzely_potom = [3,6,1,0,2,2,0,3,5,2,16,7,1,3,4,1]\n",
    "\n",
    "\n",
    "# Paired t-test\n",
    "print(\"Párový t-test\")\n",
    "t_stat, p_value = ttest_rel(kuzely_predtim, kuzely_potom, alternative = \"less\")\n",
    "print(f\"Paired t-test: t-statistic = {t_stat:.4f}, p-value = {p_value:.4f}\")"
   ]
  },
  {
   "cell_type": "markdown",
   "id": "8aac0fc0",
   "metadata": {},
   "source": [
    "Easy peasy lemon squeezy. Pojďme na to manuálně. V tom případě od hodnot jednoho listu odečítáme hodnoty druhého listu.\n",
    "\n",
    "$H_0$: rozdíl = 0\n",
    "\n",
    "$H_A$: rozdíl > 0 nebo rozdíl < 0 nebo rozdíl $\\neq$ 0.\n",
    "\n",
    "Já odečtu od hodnot předtím hodnoty potom. Tedy bych se měl dostat spíše do záporných čísel (protože potom jsem srazil více kuželů).\n",
    "\n",
    "Nastavuji tedy pro one sample t-test:\n",
    "\n",
    "$H_0$: rozdíl = 0\n",
    "\n",
    "$H_A$: rozdíl < 0\n"
   ]
  },
  {
   "cell_type": "code",
   "execution_count": 42,
   "id": "a0326e28",
   "metadata": {},
   "outputs": [
    {
     "name": "stdout",
     "output_type": "stream",
     "text": [
      "Rozdil: [-1, -3, -1, 0, -2, 2, 1, -2, -3, 1, -8, 0, -1, -1, -1, 1]\n",
      "One-Sample t-test: t-statistic = -1.9276, p-value = 0.0365\n"
     ]
    }
   ],
   "source": [
    "# Input lists\n",
    "kuzely_predtim = [2, 3, 0, 0, 0, 4, 1, 1, 2, 3, 8, 7, 0, 2, 3, 2]\n",
    "kuzely_potom = [3, 6, 1, 0, 2, 2, 0, 3, 5, 2, 16, 7, 1, 3, 4, 1]\n",
    "\n",
    "# Initialize an empty list for the differences\n",
    "rozdil = []\n",
    "\n",
    "# Use a for loop to calculate the differences\n",
    "for i in range(len(kuzely_predtim)):\n",
    "    rozdil.append(kuzely_predtim[i] - kuzely_potom[i])\n",
    "\n",
    "# Print the result\n",
    "print(\"Rozdil:\", rozdil)\n",
    "\n",
    "t_stat, p_value = ttest_1samp(rozdil, popmean=0, alternative = \"less\")\n",
    "print(f\"One-Sample t-test: t-statistic = {t_stat:.4f}, p-value = {p_value:.4f}\")"
   ]
  },
  {
   "cell_type": "markdown",
   "id": "fd4e3284",
   "metadata": {},
   "source": [
    "Vida, test vyšel úplně stejně. Pojďme se podívat na two-sample t-test aplikovaný na tato data, kde\n",
    "\n",
    "$H_0$: kuzely_predtim = kuzely_potom (Není rozdíl v průměrných počtech sražených kuželů)\n",
    "\n",
    "$H_A$: kuzely_predtim < kuzely_potom (Před vlivem alkoholu jich lidé sráželi spíše méně)"
   ]
  },
  {
   "cell_type": "code",
   "execution_count": 44,
   "id": "04b8cf99",
   "metadata": {},
   "outputs": [
    {
     "name": "stdout",
     "output_type": "stream",
     "text": [
      "Two-Sample t-test: t-statistic = -0.9871, p-value = 0.1657\n"
     ]
    }
   ],
   "source": [
    "t_stat, p_value = ttest_ind(kuzely_predtim, kuzely_potom, alternative = \"less\")\n",
    "print(f\"Two-Sample t-test: t-statistic = {t_stat:.4f}, p-value = {p_value:.4f}\")"
   ]
  },
  {
   "cell_type": "markdown",
   "id": "b4133060",
   "metadata": {},
   "source": [
    "Uf, testíček nám vychází mnohem hůř. Krindypindy, jak je to možné? Pointa je v tom, že při two sample t-testu nepředpokládáme, že datasety spolu nějak souvisí (dokonce nemusí mít stejné počty pozorování!). Tím pádem takto ztrácíme pro výpočet část informace, která je pro nás klíčová! Získáváme menší jistotu v náš test!"
   ]
  },
  {
   "cell_type": "markdown",
   "id": "0c689c11",
   "metadata": {},
   "source": [
    "# Zajímavost navíc: Jak od píky nakódit t-test? \n",
    "\n",
    "Následující kód odpovídá tomu, co je v prezentaci na classroomu. My tohle museli dělat na škole za domácí úkol:)\n",
    "\n",
    "Tohle je vzoreček pro výpočet směrodatné odchylky u vozku z populace, jejíž průměr neznáme:\n",
    "\n",
    "$s = \\sqrt{\\frac{1}{n-1} \\sum_{i=1}^n (x_i - \\overline{x})^2}$\n",
    "\n",
    "\n",
    "\n",
    "Tohle je vzorec pro t-statistics u one sample t-testu.\n",
    "\n",
    "$t = \\frac{\\bar{x} - \\mu_0}{\\frac{s}{\\sqrt{n}}}$\n",
    "\n",
    "\n"
   ]
  },
  {
   "cell_type": "code",
   "execution_count": 47,
   "id": "200d71de",
   "metadata": {},
   "outputs": [],
   "source": [
    "?t.ppf"
   ]
  },
  {
   "cell_type": "code",
   "execution_count": 52,
   "id": "12d37008",
   "metadata": {},
   "outputs": [
    {
     "name": "stdout",
     "output_type": "stream",
     "text": [
      "Sample Mean: 10.142857142857142\n",
      "Sample Standard Deviation: 3.779644730092272\n",
      "T-Statistic: -1.83848\n",
      "Critical T-Value: ±2.16037\n",
      "P-Value: 0.08894\n",
      "Fail to reject the null hypothesis: The sample mean is not significantly different from the population mean.\n"
     ]
    }
   ],
   "source": [
    "import math\n",
    "from scipy.stats import t\n",
    "\n",
    "# Step 1: Sample Data and Hypothesized Population Mean\n",
    "sample_data = [10, 12, 13, 11, 12, 14, 15, 10, 11, 13,6,8,1,6]\n",
    "pop_mean = 12  # Hypothesized population mean\n",
    "alpha = 0.05   # Significance level\n",
    "\n",
    "# Step 2: Calculate the Sample Mean and Sample Size\n",
    "sample_mean = sum(sample_data) / len(sample_data)\n",
    "sample_size = len(sample_data)\n",
    "\n",
    "# Step 3: Calculate the Sample Standard Deviation - tohle je vzoreček na výpočet směrodatné odchylky ze vzorku\n",
    "# Formula: sqrt(sum((x_i - mean)^2) / (n - 1))\n",
    "variance = sum((x - sample_mean) ** 2 for x in sample_data) / (sample_size - 1)\n",
    "sample_std_dev = math.sqrt(variance)\n",
    "\n",
    "# Step 4: Calculate the t-statistic\n",
    "# Formula: t = (sample_mean - pop_mean) / (sample_std_dev / sqrt(sample_size))\n",
    "t_statistic = (sample_mean - pop_mean) / (sample_std_dev / math.sqrt(sample_size))\n",
    "\n",
    "# Step 5: Calculate the Critical t-value for a Two-Tailed Test\n",
    "#KLÍČOVÉ - právě proto, abyste chápali tento krok a funkci t.ppf jsme dělali kumulativní distributivní funkce!\n",
    "#KLÍČOVÉ - t.ppf je inverzní funkce ke kumulativní distributivní funkci - vložíte do ní percentil, ona vám vyhodí hodnotu pro data\n",
    "df = sample_size - 1  # Degrees of freedom\n",
    "critical_t = t.ppf(1 - alpha / 2, df)  # Two-tailed test\n",
    "\n",
    "# Step 6: Calculate the p-value\n",
    "# p-value for two-tailed test\n",
    "#KLÍČOVÉ - právě proto, abyste chápali tento krok a funkci t.ppf jsme dělali kumulativní distributivní funkce!\n",
    "p_value = 2 * (1 - t.cdf(abs(t_statistic), df))\n",
    "\n",
    "# Print Results\n",
    "print(f\"Sample Mean: {sample_mean}\")\n",
    "print(f\"Sample Standard Deviation: {sample_std_dev}\")\n",
    "print(f\"T-Statistic: {t_statistic:.5f}\")\n",
    "print(f\"Critical T-Value: ±{critical_t:.5f}\")\n",
    "print(f\"P-Value: {p_value:.5f}\")\n",
    "\n",
    "# Step 7: Make a Decision\n",
    "if abs(t_statistic) > critical_t:\n",
    "    print(\"Reject the null hypothesis: The sample mean is significantly different from the population mean.\")\n",
    "else:\n",
    "    print(\"Fail to reject the null hypothesis: The sample mean is not significantly different from the population mean.\")\n"
   ]
  },
  {
   "cell_type": "code",
   "execution_count": 50,
   "id": "2a40f95c",
   "metadata": {},
   "outputs": [],
   "source": [
    "?t.ppf"
   ]
  },
  {
   "cell_type": "markdown",
   "id": "8a4bef68",
   "metadata": {},
   "source": [
    "## Chi-Square Goodness of Fit"
   ]
  },
  {
   "cell_type": "code",
   "execution_count": 53,
   "id": "144e2e34",
   "metadata": {},
   "outputs": [],
   "source": [
    "Test"
   ]
  },
  {
   "cell_type": "code",
   "execution_count": 54,
   "id": "f950d53d",
   "metadata": {},
   "outputs": [
    {
     "name": "stdout",
     "output_type": "stream",
     "text": [
      "Chi-square Goodness of Fit: chi2-statistic = 0.40, p-value = 0.8187\n",
      "[18 22 20]\n"
     ]
    }
   ],
   "source": [
    "\n",
    "# Chi-square goodness-of-fit test\n",
    "chi2_stat, p_value = chisquare(observed, f_exp=expected)\n",
    "print(f\"Chi-square Goodness of Fit: chi2-statistic = {chi2_stat:.2f}, p-value = {p_value:.4f}\")\n",
    "print(observed)"
   ]
  },
  {
   "cell_type": "markdown",
   "id": "1f5852fd",
   "metadata": {},
   "source": [
    "## Chi-Square Test for Independence"
   ]
  },
  {
   "cell_type": "code",
   "execution_count": 7,
   "id": "9f9062ca",
   "metadata": {},
   "outputs": [
    {
     "name": "stdout",
     "output_type": "stream",
     "text": [
      "Chi-square Independence Test: chi2-statistic = 15.04, p-value = 0.0001\n",
      "Expected Frequencies:\n",
      "[[20. 20.]\n",
      " [30. 30.]]\n"
     ]
    }
   ],
   "source": [
    "\n",
    "# Chi-square test for independence\n",
    "chi2_stat, p_value, dof, expected = chi2_contingency(contingency_table)\n",
    "print(f\"Chi-square Independence Test: chi2-statistic = {chi2_stat:.2f}, p-value = {p_value:.4f}\")\n",
    "print(\"Expected Frequencies:\")\n",
    "print(expected)\n"
   ]
  }
 ],
 "metadata": {
  "kernelspec": {
   "display_name": "Python 3 (ipykernel)",
   "language": "python",
   "name": "python3"
  },
  "language_info": {
   "codemirror_mode": {
    "name": "ipython",
    "version": 3
   },
   "file_extension": ".py",
   "mimetype": "text/x-python",
   "name": "python",
   "nbconvert_exporter": "python",
   "pygments_lexer": "ipython3",
   "version": "3.9.13"
  }
 },
 "nbformat": 4,
 "nbformat_minor": 5
}
