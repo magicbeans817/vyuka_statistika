{
 "cells": [
  {
   "cell_type": "markdown",
   "metadata": {},
   "source": [
    "<font size=6><b>Lekce 1 - Intro do Pythonu</b></font><br/>\n",
    "<font size=3>Jan Neduchal<br/>\n",
    "    <jan@neduchal.cz></font>"
   ]
  },
  {
   "cell_type": "markdown",
   "metadata": {},
   "source": [
    "## Shortcuts\n",
    "- <font color=blue>a</font>      - add above\n",
    "- <font color=blue>b</font>      - add bellow\n",
    "- <font color=blue>dd</font>     - delete\n",
    "- <font color=blue>c</font>      - copy\n",
    "- <font color=blue>v</font>      - paste\n",
    "- <font color=blue>m</font>      - change to markdown\n",
    "- <font color=blue>y</font>      - change to code\n",
    "- <font color=green>tab</font>   - auto-completition\n",
    "- <b>shift + enter</b>                 - run cell\n"
   ]
  },
  {
   "cell_type": "markdown",
   "metadata": {},
   "source": [
    "## Odkazy\n",
    "### Kde hledat odpovědi na problémy\n",
    "- https://stackoverflow.com\n",
    "- https://docs.python.org/3/\n",
    "- https://github.com\n",
    "- https://www.youtube.com/@Computerphile\n",
    "- Google, Bing, DuckDuckGo, Seznam (?)\n",
    "- Duchy#1337 na Discordu / jan@neduchal.cz\n",
    "### Co stáhnout\n",
    "- https://www.python.org/downloads/\n",
    "- https://jupyter.org/install\n",
    "- https://code.visualstudio.com/Download\n",
    "- https://code.visualstudio.com/docs/python/python-tutorial\n",
    "### Procvičování\n",
    "- https://leetcode.com"
   ]
  },
  {
   "cell_type": "markdown",
   "metadata": {},
   "source": [
    "## Typy a proměné\n",
    "---"
   ]
  },
  {
   "cell_type": "code",
   "execution_count": 1,
   "metadata": {},
   "outputs": [],
   "source": [
    "# <-- vse po # se na radku ignoruje\n",
    "# slouzi to k dokumentovani kodu a rika se tomu komentar"
   ]
  },
  {
   "cell_type": "code",
   "execution_count": 2,
   "metadata": {},
   "outputs": [
    {
     "name": "stdout",
     "output_type": "stream",
     "text": [
      "10\n",
      "15\n",
      "14\n"
     ]
    }
   ],
   "source": [
    "promena = 10\n",
    "print(promena)\n",
    "promena = 15\n",
    "print(promena)\n",
    "promena = promena - 1\n",
    "print(promena)"
   ]
  },
  {
   "cell_type": "code",
   "execution_count": 3,
   "metadata": {},
   "outputs": [
    {
     "name": "stdout",
     "output_type": "stream",
     "text": [
      "<class 'int'>\n",
      "<class 'float'>\n",
      "<class 'str'>\n",
      "<class 'bool'>\n",
      "<class 'NoneType'>\n",
      "65\n"
     ]
    }
   ],
   "source": [
    "integer_var = 65            # cele cislo\n",
    "floating_var = 1.23         # cislo s plovouci desetinou carkou\n",
    "string_var = \"Hello World!\" # retezec (pismen)\n",
    "bool_var = True             # Ano/Ne (vyrazy boolovske algebry)\n",
    "none_var = None             # specialni typ co oznacuje nic (!! pozor, odlisne od 0 !!)\n",
    "\n",
    "# integer_var = 0x41\n",
    "# integer_var = 0b01000001\n",
    "\n",
    "# vypiseme nazvy datatypu\n",
    "print(type(integer_var))\n",
    "print(type(floating_var))\n",
    "print(type(string_var))\n",
    "print(type(bool_var))\n",
    "print(type(none_var))\n",
    "\n",
    "print(integer_var)"
   ]
  },
  {
   "cell_type": "code",
   "execution_count": 4,
   "metadata": {},
   "outputs": [
    {
     "name": "stdout",
     "output_type": "stream",
     "text": [
      "4\n",
      "26\n",
      "3.0\n",
      "256\n",
      "5\n",
      "3\n",
      "3.123\n"
     ]
    }
   ],
   "source": [
    "# zakladni operace s cisly\n",
    "print(8-4)\n",
    "print(13*2)\n",
    "print(9/3)\n",
    "print(2**8)      # mocnina\n",
    "print(28 // 5)   # celociselne deleni\n",
    "print(28 % 5)    # modulo (zbytek po celociselnem deleni)\n",
    "print(round(3.123456789, 3)) # zaokrouhleni na 3 desetina mista"
   ]
  },
  {
   "cell_type": "code",
   "execution_count": 5,
   "metadata": {},
   "outputs": [
    {
     "name": "stdout",
     "output_type": "stream",
     "text": [
      "0.30000000000000004\n"
     ]
    }
   ],
   "source": [
    "# co se vypise?\n",
    "# https://youtu.be/PZRI1IfStY0\n",
    "print(0.1 + 0.2)\n",
    "#print(0.1+0.3)\n",
    "#print((1+2)/10)"
   ]
  },
  {
   "cell_type": "code",
   "execution_count": 6,
   "metadata": {
    "scrolled": true
   },
   "outputs": [
    {
     "name": "stdout",
     "output_type": "stream",
     "text": [
      "False\n",
      "False\n",
      "True\n",
      "True\n",
      "False\n"
     ]
    }
   ],
   "source": [
    "# logicke operace\n",
    "print(True and False)\n",
    "print(True & False)\n",
    "\n",
    "print(False or True)\n",
    "print(False | True)\n",
    "\n",
    "print(not True)"
   ]
  },
  {
   "cell_type": "code",
   "execution_count": 7,
   "metadata": {
    "scrolled": true
   },
   "outputs": [
    {
     "name": "stdout",
     "output_type": "stream",
     "text": [
      "AAA\n",
      "Hello + World\n",
      "2\n"
     ]
    }
   ],
   "source": [
    "# operatory mohou pomoci i jinde\n",
    "print(\"A\"*3)\n",
    "print(\"Hello\" + \" + \" + \"World\")\n",
    "print(True + True - False)       # False = 0, True = 1\n",
    "#print(\"A\"*\"B\")\n",
    "#print(True*\"C\")\n",
    "#print(False*\"D\")"
   ]
  },
  {
   "cell_type": "code",
   "execution_count": 8,
   "metadata": {},
   "outputs": [
    {
     "name": "stdout",
     "output_type": "stream",
     "text": [
      "13375\n",
      "1342\n",
      "A\n",
      "65\n",
      "65\n",
      "A\n",
      "b'XD'\n",
      "17496\n",
      "XD\n"
     ]
    }
   ],
   "source": [
    "# konverze\n",
    "str_var = \"1337\"\n",
    "print(str_var + \"5\")\n",
    "print(int(str_var) + 5)\n",
    "\n",
    "\n",
    "character_var = 'A'\n",
    "print(character_var)\n",
    "print(ord(character_var))\n",
    "\n",
    "int_var = 65\n",
    "print(int_var)\n",
    "print(chr(65))\n",
    "\n",
    "hex_str = b\"\\x58\\x44\"\n",
    "print(hex_str)\n",
    "print(int.from_bytes(hex_str, \"little\")) # big/little --> https://youtu.be/NcaiHcBvDR4\n",
    "print(hex_str.decode(\"ascii\"))\n"
   ]
  },
  {
   "cell_type": "markdown",
   "metadata": {},
   "source": [
    "## List\n",
    "---"
   ]
  },
  {
   "cell_type": "code",
   "execution_count": 9,
   "metadata": {
    "scrolled": true
   },
   "outputs": [
    {
     "name": "stdout",
     "output_type": "stream",
     "text": [
      "[10, 20, 30]\n",
      "<class 'list'>\n",
      "3\n",
      "60\n",
      "20\n"
     ]
    }
   ],
   "source": [
    "# cislovane od 0\n",
    "list_var = [10, 20, 30]      # inicializace listu\n",
    "print(list_var)\n",
    "print(type(list_var))\n",
    "print(len(list_var))         # delka listu\n",
    "print(sum(list_var))             # soucet listu, nefunguje vzdy\n",
    "print(list_var[1])"
   ]
  },
  {
   "cell_type": "code",
   "execution_count": 10,
   "metadata": {},
   "outputs": [
    {
     "name": "stdout",
     "output_type": "stream",
     "text": [
      "[1, 2, 3, 4, 5]\n",
      "prvni:                1\n",
      "posledni:             5\n",
      "od 2. do 4.:          [2, 3, 4]\n",
      "do 3.:                [1, 2, 3]\n",
      "kazdy 2.:             [1, 3, 5]\n",
      "posledni 3:           [3, 4, 5]\n",
      "posledni 3, pozpatku: [5, 4, 3]\n",
      "list pozpatku:        [5, 4, 3, 2, 1]\n"
     ]
    }
   ],
   "source": [
    "# list slice\n",
    "# Lst[start:stop:step]\n",
    "#       0  1  2  3  4\n",
    "#      -5 -4 -3 -2 -1\n",
    "nums = [1, 2, 3, 4, 5]\n",
    "print(nums)\n",
    "print(\"prvni:                \" + str(nums[0]))\n",
    "print(\"posledni:             \" + str(nums[-1]))\n",
    "print(\"od 2. do 4.:          \" + str(nums[1:4]))\n",
    "print(\"do 3.:                \" + str(nums[:3]))\n",
    "print(\"kazdy 2.:             \" + str(nums[::2]))\n",
    "print(\"posledni 3:           \" + str(nums[-3:]))\n",
    "print(\"posledni 3, pozpatku: \" + str(nums[:-4:-1]))\n",
    "print(\"list pozpatku:        \" + str(nums[::-1]))"
   ]
  },
  {
   "cell_type": "code",
   "execution_count": 11,
   "metadata": {},
   "outputs": [
    {
     "name": "stdout",
     "output_type": "stream",
     "text": [
      "[1, 2, 3, 4, 5]\n",
      "[1, 2, 3, 4, 1]\n",
      "[1, 2, 3, 4, 1, 6, 7, 8]\n",
      "[1, 2, 3, 4, 1, 6, 7, 8, 1, 2, 3, 4, 1, 6, 7, 8]\n",
      "[1, 2, 3, 4, 6, 7, 8]\n",
      "[1, 2, 3, 4, 5, 6, 7, 8]\n",
      "W\n"
     ]
    }
   ],
   "source": [
    "# operace s listy\n",
    "nums = [1, 2, 3, 4, 5]\n",
    "print(nums)\n",
    "\n",
    "# get/set\n",
    "first = nums[0]  # get\n",
    "nums[-1] = first # set\n",
    "print(nums)\n",
    "\n",
    "# rozsireni\n",
    "nums.append(6)\n",
    "nums.extend([7,8])\n",
    "#nums.append([7,8])\n",
    "print(nums)\n",
    "\n",
    "# nasobeni\n",
    "print(nums*2)\n",
    "\n",
    "# smazani prvku\n",
    "del nums[4] # smaze 1ku na pozici 4\n",
    "print(nums)\n",
    "\n",
    "# vkladani prvku\n",
    "nums = nums[:4] + [5] + nums[4:]\n",
    "#print(f\"{nums[:4]} + [5] + {nums[4:]}\")\n",
    "print(nums)\n",
    "\n",
    "# string se take (skoro) chova jako list\n",
    "string_var = \"Hello World\"\n",
    "#del string_var[6] # <-- nefunguje, protoze del neni pro string definovano\n",
    "#string_var = string_var[:6] + string_var[7:]\n",
    "#string_var = string_var.replace(\"W\", \"\")\n",
    "print(string_var[6])"
   ]
  },
  {
   "cell_type": "markdown",
   "metadata": {},
   "source": [
    "## Slovník (dictionary)\n",
    "---"
   ]
  },
  {
   "cell_type": "code",
   "execution_count": 12,
   "metadata": {},
   "outputs": [
    {
     "name": "stdout",
     "output_type": "stream",
     "text": [
      "<class 'dict'>\n",
      "{'CZ': 'Czech republic', 'SK': 'Slovakia'}\n",
      "2\n",
      "Czech republic\n",
      "{'CZ': 'Czech republic', 'SK': 'Slovakia', 'GE': 'Germany'}\n",
      "3\n",
      "{'CZ': 'Czech republic', 'GE': 'Germany'}\n"
     ]
    }
   ],
   "source": [
    "# {key: value...}\n",
    "dict_var = {\"CZ\": \"Czech republic\", \"SK\": \"Slovakia\"}\n",
    "print(type(dict_var))\n",
    "print(dict_var)\n",
    "\n",
    "# delka slovniku\n",
    "print(len(dict_var))\n",
    "\n",
    "# pristup k prvku\n",
    "print(dict_var[\"CZ\"])\n",
    "\n",
    "# pridani prvku\n",
    "dict_var[\"GE\"] = \"Germany\"\n",
    "print(dict_var)\n",
    "print(len(dict_var))\n",
    "\n",
    "# smazani prvku\n",
    "del dict_var[\"SK\"]\n",
    "print(dict_var)"
   ]
  },
  {
   "cell_type": "code",
   "execution_count": 13,
   "metadata": {},
   "outputs": [
    {
     "name": "stdout",
     "output_type": "stream",
     "text": [
      "{'CZ': {'name': 'Czech republic', 'phone_code': 420}, 'SK': {'name': 'Slovakia', 'phone_code': 421}}\n",
      "Czech republic\n"
     ]
    }
   ],
   "source": [
    "# data typy se mohou ukladat jeden do druheho\n",
    "\n",
    "country_codes = {\"CZ\": \"Czech republic\", \"SK\": \"Slovakia\"}\n",
    "\n",
    "phone_country_codes = {\"CZ\": 420, \"SK\": 421}\n",
    "\n",
    "countries = {\"CZ\": {\"name\": country_codes[\"CZ\"], \"phone_code\": phone_country_codes[\"CZ\"]}, \"SK\": {\"name\": country_codes[\"SK\"], \"phone_code\": phone_country_codes[\"SK\"]}}\n",
    "\n",
    "print(countries)\n",
    "print(countries[\"CZ\"][\"name\"])"
   ]
  },
  {
   "cell_type": "markdown",
   "metadata": {},
   "source": [
    "## Control flow keywords\n",
    "---"
   ]
  },
  {
   "cell_type": "code",
   "execution_count": 14,
   "metadata": {},
   "outputs": [
    {
     "name": "stdout",
     "output_type": "stream",
     "text": [
      "1\n",
      "1\n",
      "4\n",
      "4\n",
      "5\n",
      "5\n"
     ]
    }
   ],
   "source": [
    "# IF\n",
    "# vsuvka z matematiky: vyrokova logika\n",
    "# k cemu je konjunkce, disjunkce apod.?\n",
    "a = True\n",
    "b = False\n",
    "\n",
    "if a:\n",
    "    print(1)\n",
    "if a == True:\n",
    "    print(1)\n",
    "    \n",
    "if not a:\n",
    "    print(2)\n",
    "if a != True:\n",
    "    print(2)\n",
    "\n",
    "if a and b:\n",
    "    print(3)\n",
    "if a & b:\n",
    "    print(3)\n",
    "    \n",
    "if a or b:\n",
    "    print(4)\n",
    "if a | b:\n",
    "    print(4)\n",
    "\n",
    "if a != b:\n",
    "    print(5)\n",
    "if a ^ b:\n",
    "    print(5)"
   ]
  },
  {
   "cell_type": "code",
   "execution_count": 15,
   "metadata": {},
   "outputs": [
    {
     "name": "stdout",
     "output_type": "stream",
     "text": [
      "1: inside else\n",
      "2: inside if\n",
      "3: inside elif\n"
     ]
    }
   ],
   "source": [
    "# ELSE, ELIF\n",
    "num = 49\n",
    "\n",
    "if num == 50:  # \"rovna se\"\n",
    "    print(\"1: inside if\")\n",
    "else:\n",
    "    print(\"1: inside else\")\n",
    "\n",
    "if num != 30:  # \"nerovna se\"\n",
    "    print(\"2: inside if\")\n",
    "\n",
    "num = 10\n",
    "#num = 5\n",
    "#num = 9\n",
    "\n",
    "if num < 9:\n",
    "    print(\"3: inside if\")\n",
    "elif num >= 10:\n",
    "    print(\"3: inside elif\")\n",
    "else:\n",
    "    print(\"3: inside else\")"
   ]
  },
  {
   "cell_type": "code",
   "execution_count": 16,
   "metadata": {},
   "outputs": [
    {
     "name": "stdout",
     "output_type": "stream",
     "text": [
      "[5, 8, 2, 16, 18, 4, 9]\n",
      "5\n",
      "8\n",
      "2\n",
      "16\n",
      "18\n",
      "4\n",
      "9\n"
     ]
    }
   ],
   "source": [
    "# FOR\n",
    "# https://wiki.python.org/moin/Iterator\n",
    "# continue\n",
    "# break\n",
    "\n",
    "var = [5, 8, 2, 16, 18, 4, 9]\n",
    "# var = range(10)\n",
    "\n",
    "print(var)\n",
    "\n",
    "highest = 0\n",
    "for value in var:\n",
    "    # if value < highest:\n",
    "    #    continue\n",
    "    # else:\n",
    "    #    highest = value\n",
    "    print(value)"
   ]
  },
  {
   "cell_type": "code",
   "execution_count": 17,
   "metadata": {
    "scrolled": false
   },
   "outputs": [
    {
     "name": "stdout",
     "output_type": "stream",
     "text": [
      "0\n",
      "1\n",
      "2\n",
      "3\n",
      "4\n",
      "5\n"
     ]
    }
   ],
   "source": [
    "# WHILE\n",
    "import time\n",
    "\n",
    "slept = 0\n",
    "target_time = 5\n",
    "\n",
    "while slept <= target_time:\n",
    "    print(slept)\n",
    "    time.sleep(1)\n",
    "    slept += 1"
   ]
  },
  {
   "cell_type": "code",
   "execution_count": 18,
   "metadata": {},
   "outputs": [
    {
     "name": "stdout",
     "output_type": "stream",
     "text": [
      "0\n",
      "1\n",
      "2\n",
      "3\n",
      "4\n",
      "5\n",
      "6\n",
      "7\n"
     ]
    }
   ],
   "source": [
    "# WHILE\n",
    "\n",
    "i = 0\n",
    "while True:\n",
    "    if i > 7:\n",
    "        break;\n",
    "        print(\"Sem se nikdy kod nedostane\")\n",
    "    print(i)\n",
    "    i += 1"
   ]
  },
  {
   "cell_type": "code",
   "execution_count": 19,
   "metadata": {},
   "outputs": [],
   "source": [
    "while False:\n",
    "    print(\"Tohle je velice neefektivni zpusob zapisu komentare\")"
   ]
  },
  {
   "cell_type": "code",
   "execution_count": 20,
   "metadata": {},
   "outputs": [
    {
     "name": "stdout",
     "output_type": "stream",
     "text": [
      "{'CZ': {'name': 'Czech republic', 'phone_code': 420}, 'SK': {'name': 'Slovakia', 'phone_code': 421}}\n"
     ]
    }
   ],
   "source": [
    "# {key: value}\n",
    "# countries = {\"CZ\": {\"name\": country_codes[\"CZ\"], \"phone_code\": phone_country_codes[\"CZ\"]}, ...}\n",
    "\n",
    "country_codes = {\"CZ\": \"Czech republic\", \"SK\": \"Slovakia\"}\n",
    "\n",
    "phone_country_codes = {\"CZ\": 420, \"SK\": 421}\n",
    "\n",
    "countries = {}\n",
    "\n",
    "for cc in country_codes.keys():\n",
    "        countries[cc] = {\"name\": country_codes[cc], \"phone_code\": phone_country_codes[cc]}\n",
    "        \n",
    "print(countries)\n",
    "\n",
    "# list_var = [0, 1, 2, 3, 4, 5, 6, 7, 8, 9]\n",
    "# rot13_ciphertext = \"guvfvfcynvagrkg\""
   ]
  },
  {
   "cell_type": "code",
   "execution_count": null,
   "metadata": {},
   "outputs": [],
   "source": [
    "# funkce\n",
    "def func_add(a: int, b: int) -> int:\n",
    "    return a + b\n",
    "\n",
    "print(type(func_add))\n",
    "\n",
    "first = 5\n",
    "second = 6\n",
    "print(func_add(first, second))\n",
    "\n",
    "def pretty_print(input_str: str) -> None:\n",
    "    pretty_template = \"🌻🌈 {} 🌈🌻\"\n",
    "    print(pretty_template.format(input_str))\n",
    "    \n",
    "#pretty_print(func_add(first, second - 16))\n",
    "#print(pretty_template)\n",
    "#print(func_add(first, func_add(first, func_add(first, second))))"
   ]
  },
  {
   "cell_type": "code",
   "execution_count": null,
   "metadata": {},
   "outputs": [],
   "source": [
    "# knihovny\n",
    "# https://docs.python.org/3/library/math.html\n",
    "\n",
    "import math\n",
    "\n",
    "r = 1.23\n",
    "obvod = 2*math.pi*r\n",
    "obsah = math.pi*math.pow(r, 2) # https://docs.python.org/3/library/math.html#math.pow\n",
    "print(f\"{r=} {obvod=} {obsah=}\")"
   ]
  },
  {
   "cell_type": "code",
   "execution_count": null,
   "metadata": {
    "scrolled": true
   },
   "outputs": [],
   "source": [
    "# interakce s uzivatelem: ASCII convertor\n",
    "while True:\n",
    "    user_input = input('> ')\n",
    "    for letter in user_input:\n",
    "        print(ord(letter), end=\" \")"
   ]
  },
  {
   "cell_type": "markdown",
   "metadata": {},
   "source": [
    "## Na doma\n",
    "### Konvertor měn\n",
    "- nejdříve vypíšete menu, kde očíslujete měny\n",
    "- uživatel zadá číslo měny ze které chce převádět (funkce input())\n",
    "- následně zadá kolik jednotek chce převést\n",
    "- program vypíše výsledek společně s tím jak se k němu dopracoval\n",
    "\n",
    "příklad výpisu programu (\">\" značí input):\n",
    "```\n",
    "1 = GBP, 2 = EUR, 3 = USD, 4 = HUF\n",
    "Z jaké měny chcete prevádět?\n",
    "> 2\n",
    "Kolik EUR chcete převést?\n",
    "> 100\n",
    "100€ = 2700Kč, při kurzu 1€ = 27Kč\n",
    "```\n",
    "\n",
    "- BONUS 1: Vypište chybovou hlášku pokud vysledek konverze bude více jak 1 milion korun, nebo také pokud číslo co uživatel v menu zadá neodpovídá žádné možnosti\n",
    "- BONUS 2: Měny uchovejte v proměné typu list a upravte kód tak že když se přidá měna do tohoto listu, tak se automaticky bude umět zpracovat jako měny ostatní (bude v menu a bude mít uložený svuj kurz vůči ostatním měnám)\n",
    "- BONUS 3: Uživatelský vstup dejte do loopu a přidejte možnost v menu program ukončit\n",
    "\n",
    "### Získání vlastní IP adresy\n",
    "- napište program co vypíše vaší aktuální veřejnou IP adresu (https://en.wikipedia.org/wiki/IP_address#Public_address)\n",
    "- jako zdroj použijte https://api.ipify.org\n",
    "- pomůže vám s tím knihovna `requests`, kterou můžete stáhnout pomocí příkazu `python3 -m pip install requests`\n",
    "- `import requests`\n",
    "- funkce co vam dovolí se připojit na server je `requests.get()` a její dokumentaci najdete zde (https://docs.python-requests.org/en/latest/user/quickstart/#make-a-request)\n",
    "- z výsledku volání stačí vytáhnout proměnou `.text`, tzn. z příkladu v dokumentaci `r.text`\n",
    "- nebojte se extenzivně používat google, ale snažte se porozumět tomu co a proč děláte"
   ]
  }
 ],
 "metadata": {
  "kernelspec": {
   "display_name": "Python 3",
   "language": "python",
   "name": "python3"
  },
  "language_info": {
   "codemirror_mode": {
    "name": "ipython",
    "version": 3
   },
   "file_extension": ".py",
   "mimetype": "text/x-python",
   "name": "python",
   "nbconvert_exporter": "python",
   "pygments_lexer": "ipython3",
   "version": "3.8.8"
  }
 },
 "nbformat": 4,
 "nbformat_minor": 4
}
